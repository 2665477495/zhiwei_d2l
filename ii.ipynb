{
 "cells": [
  {
   "cell_type": "code",
   "execution_count": 10,
   "metadata": {},
   "outputs": [
    {
     "name": "stdout",
     "output_type": "stream",
     "text": [
      "Average distance over 10 runs: 1291.0582474929377\n",
      "Average time over 10 runs: 0.045418 seconds\n"
     ]
    }
   ],
   "source": [
    "import numpy as np\n",
    "import timeit\n",
    "\n",
    "def compute_euclidean_distance_manual(vec1, vec2):\n",
    "    return np.sqrt(np.sum((vec1 - vec2) ** 2))\n",
    "\n",
    "vec1 = np.random.rand(10000000)\n",
    "vec2 = np.random.rand(10000000)\n",
    "\n",
    "# 测试函数\n",
    "def run_test():\n",
    "    return compute_euclidean_distance_manual(vec1, vec2)\n",
    "\n",
    "# 使用timeit测试10次\n",
    "num_tests = 10\n",
    "total_time = timeit.timeit(run_test, number=num_tests)\n",
    "avg_time = total_time / num_tests\n",
    "\n",
    "print(f\"Average distance over {num_tests} runs: {run_test()}\")\n",
    "print(f\"Average time over {num_tests} runs: {avg_time:.6f} seconds\")\n"
   ]
  },
  {
   "cell_type": "code",
   "execution_count": null,
   "metadata": {},
   "outputs": [],
   "source": []
  }
 ],
 "metadata": {
  "kernelspec": {
   "display_name": "torch_env",
   "language": "python",
   "name": "python3"
  },
  "language_info": {
   "codemirror_mode": {
    "name": "ipython",
    "version": 3
   },
   "file_extension": ".py",
   "mimetype": "text/x-python",
   "name": "python",
   "nbconvert_exporter": "python",
   "pygments_lexer": "ipython3",
   "version": "3.8.16"
  },
  "orig_nbformat": 4
 },
 "nbformat": 4,
 "nbformat_minor": 2
}
